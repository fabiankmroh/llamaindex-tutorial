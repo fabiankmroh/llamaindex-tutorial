{
 "cells": [
  {
   "cell_type": "code",
   "execution_count": 2,
   "id": "2e9e78fd",
   "metadata": {},
   "outputs": [
    {
     "name": "stdout",
     "output_type": "stream",
     "text": [
      "Defaulting to user installation because normal site-packages is not writeable\n",
      "Requirement already satisfied: replicate in /Users/fabianroh/Library/Python/3.9/lib/python/site-packages (0.22.0)\n",
      "Requirement already satisfied: httpx<1,>=0.21.0 in /Users/fabianroh/Library/Python/3.9/lib/python/site-packages (from replicate) (0.25.2)\n",
      "Requirement already satisfied: packaging in /Users/fabianroh/Library/Python/3.9/lib/python/site-packages (from replicate) (23.1)\n",
      "Requirement already satisfied: pydantic>1 in /Users/fabianroh/Library/Python/3.9/lib/python/site-packages (from replicate) (1.10.11)\n",
      "Requirement already satisfied: typing-extensions>=4.5.0 in /Users/fabianroh/Library/Python/3.9/lib/python/site-packages (from replicate) (4.9.0)\n",
      "Requirement already satisfied: anyio in /Users/fabianroh/Library/Python/3.9/lib/python/site-packages (from httpx<1,>=0.21.0->replicate) (3.7.1)\n",
      "Requirement already satisfied: certifi in /Users/fabianroh/Library/Python/3.9/lib/python/site-packages (from httpx<1,>=0.21.0->replicate) (2023.11.17)\n",
      "Requirement already satisfied: httpcore==1.* in /Users/fabianroh/Library/Python/3.9/lib/python/site-packages (from httpx<1,>=0.21.0->replicate) (1.0.2)\n",
      "Requirement already satisfied: idna in /Users/fabianroh/Library/Python/3.9/lib/python/site-packages (from httpx<1,>=0.21.0->replicate) (3.4)\n",
      "Requirement already satisfied: sniffio in /Users/fabianroh/Library/Python/3.9/lib/python/site-packages (from httpx<1,>=0.21.0->replicate) (1.3.0)\n",
      "Requirement already satisfied: h11<0.15,>=0.13 in /Users/fabianroh/Library/Python/3.9/lib/python/site-packages (from httpcore==1.*->httpx<1,>=0.21.0->replicate) (0.14.0)\n",
      "Requirement already satisfied: exceptiongroup in /Users/fabianroh/Library/Python/3.9/lib/python/site-packages (from anyio->httpx<1,>=0.21.0->replicate) (1.1.1)\n"
     ]
    }
   ],
   "source": [
    "!pip3 install replicate"
   ]
  },
  {
   "cell_type": "code",
   "execution_count": 3,
   "id": "9571f788",
   "metadata": {},
   "outputs": [],
   "source": [
    "import os\n",
    "\n",
    "REPLICATE_API_TOKEN = \"r8_5wg5qG4wXWdYUIVu9z4HR1Tze98huUU1s9PiL\"\n",
    "os.environ[\"REPLICATE_API_TOKEN\"] = REPLICATE_API_TOKEN"
   ]
  },
  {
   "cell_type": "code",
   "execution_count": 7,
   "id": "57383fbb",
   "metadata": {},
   "outputs": [],
   "source": [
    "from PIL import Image\n",
    "import requests\n",
    "from io import BytesIO\n",
    "\n",
    "from llama_index.multi_modal_llms.generic_utils import (\n",
    "    load_image_urls,\n",
    ")\n",
    "from llama_index.schema import ImageDocument\n",
    "\n",
    "\n",
    "if not os.path.exists(\"test_images\"):\n",
    "    os.makedirs(\"test_images\")\n",
    "\n",
    "# for now fuyu-8b model on replicate can mostly handle JPG image urls well instead of local files\n",
    "image_urls = [\n",
    "    #\"https://www.visualcapitalist.com/wp-content/uploads/2023/10/US_Mortgage_Rate_Surge-Sept-11-1.jpg\",\n",
    "    \"https://www.sportsnet.ca/wp-content/uploads/2023/11/CP1688996471-1040x572.jpg\",\n",
    "    \"https://res.cloudinary.com/hello-tickets/image/upload/c_limit,f_auto,q_auto,w_1920/v1640835927/o3pfl41q7m5bj8jardk0.jpg\",\n",
    "    \"https://www.cleverfiles.com/howto/wp-content/uploads/2018/03/minion.jpg\",\n",
    "]\n",
    "# save images\n",
    "for idx, image_url in enumerate(image_urls):\n",
    "    response = requests.get(image_url)\n",
    "    img = Image.open(BytesIO(response.content))\n",
    "    img.save(f\"test_images/{idx}.png\")\n",
    "\n",
    "# option 1: load images from urls directly\n",
    "# image_documents = load_image_urls(image_urls)\n",
    "# option 2: load images from local\n",
    "image_documents = [\n",
    "    ImageDocument(image_path=f\"test_images/{idx}.png\")\n",
    "    for idx in range(len(image_urls))\n",
    "]"
   ]
  },
  {
   "cell_type": "code",
   "execution_count": null,
   "id": "600ce856",
   "metadata": {},
   "outputs": [],
   "source": [
    "import matplotlib.pyplot as plt\n",
    "from llama_index.response.notebook_utils import display_image_uris\n",
    "\n",
    "image_paths = [str(img_doc.image_path) for img_doc in image_documents]\n",
    "display_image_uris(image_paths)"
   ]
  },
  {
   "cell_type": "code",
   "execution_count": null,
   "id": "82f4e723",
   "metadata": {},
   "outputs": [],
   "source": []
  }
 ],
 "metadata": {
  "kernelspec": {
   "display_name": "Python 3 (ipykernel)",
   "language": "python",
   "name": "python3"
  },
  "language_info": {
   "codemirror_mode": {
    "name": "ipython",
    "version": 3
   },
   "file_extension": ".py",
   "mimetype": "text/x-python",
   "name": "python",
   "nbconvert_exporter": "python",
   "pygments_lexer": "ipython3",
   "version": "3.9.6"
  }
 },
 "nbformat": 4,
 "nbformat_minor": 5
}
